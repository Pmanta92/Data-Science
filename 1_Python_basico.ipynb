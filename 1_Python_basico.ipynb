{
 "cells": [
  {
   "cell_type": "markdown",
   "id": "b1daa7af",
   "metadata": {},
   "source": [
    "# ************* Listas **************"
   ]
  },
  {
   "cell_type": "code",
   "execution_count": 183,
   "id": "23fe7b37",
   "metadata": {},
   "outputs": [
    {
     "data": {
      "text/plain": [
       "['manzana', 'banana', 'kiwi', 'mora', 'sandía']"
      ]
     },
     "execution_count": 183,
     "metadata": {},
     "output_type": "execute_result"
    }
   ],
   "source": [
    "frutas = [\"manzana\", \"banana\", \"kiwi\", \"mora\"]\n",
    "\n",
    "frutas.append(\"sandía\") # Agregar un elemento al final de la lista\n",
    "frutas"
   ]
  },
  {
   "cell_type": "code",
   "execution_count": 184,
   "id": "eea72fca",
   "metadata": {},
   "outputs": [
    {
     "name": "stdout",
     "output_type": "stream",
     "text": [
      "1\n"
     ]
    }
   ],
   "source": [
    "if \"banana\" in frutas:\n",
    "\tprint(frutas.index(\"banana\")) # Obtener el índice de un elemento\n",
    "else:\n",
    "\tprint(\"'banana' no está en la lista\")"
   ]
  },
  {
   "cell_type": "code",
   "execution_count": 77,
   "id": "5a51b47d",
   "metadata": {},
   "outputs": [
    {
     "data": {
      "text/plain": [
       "['manzana', 'banana', 'naranja', 'kiwi', 'mora', 'sandía']"
      ]
     },
     "execution_count": 77,
     "metadata": {},
     "output_type": "execute_result"
    }
   ],
   "source": [
    "frutas.insert(2, \"naranja\") # Agregar un elemento en una posición específica\n",
    "frutas"
   ]
  },
  {
   "cell_type": "code",
   "execution_count": 78,
   "id": "456832b9",
   "metadata": {},
   "outputs": [
    {
     "name": "stdout",
     "output_type": "stream",
     "text": [
      "manzana\n",
      "['manzana', 'banana']\n",
      "['manzana', 'banana', 'naranja', 'kiwi', 'mora', 'sandía']\n",
      "sandía\n",
      "['manzana', 'banana', 'naranja', 'kiwi', 'mora']\n",
      "['banana', 'naranja', 'kiwi', 'mora', 'sandía']\n",
      "['manzana', 'naranja', 'mora']\n"
     ]
    },
    {
     "data": {
      "text/plain": [
       "['manzana', 'banana', 'naranja', 'kiwi', 'mora', 'sandía']"
      ]
     },
     "execution_count": 78,
     "metadata": {},
     "output_type": "execute_result"
    }
   ],
   "source": [
    "print(frutas[0]) # Imprimir el primer elemento de la lista\n",
    "print(frutas[0:2]) # Imprimir el segundo elemento de la lista\n",
    "print(frutas[:]) # Imprimir la lista completa\n",
    "print(frutas[-1]) # Imprimir el último elemento de la lista\n",
    "print(frutas[:-1]) # Imprimir todos los elementos menos el último\n",
    "print(frutas[1:]) # Imprimir todos los elementos menos el primero\n",
    "print(frutas[::2]) # Imprimir los elementos de la lista de 2 en 2\n",
    "frutas"
   ]
  },
  {
   "cell_type": "code",
   "execution_count": null,
   "id": "11284c8b",
   "metadata": {},
   "outputs": [
    {
     "data": {
      "text/plain": [
       "['manzana', 'banana', 'naranja', 'kiwi', 'mora', 'sandía']"
      ]
     },
     "execution_count": 79,
     "metadata": {},
     "output_type": "execute_result"
    }
   ],
   "source": [
    "frutas[5] = \"sandía\" # Cambia el valor del elemento en la posición 5\n",
    "frutas"
   ]
  },
  {
   "cell_type": "code",
   "execution_count": null,
   "id": "6fbcb6af",
   "metadata": {},
   "outputs": [
    {
     "name": "stdout",
     "output_type": "stream",
     "text": [
      "['sandía', 'sandía', 'naranja', 'kiwi', 'mora', 'sandía']\n"
     ]
    }
   ],
   "source": [
    "frutas[0:2] = [\"sandía\", \"sandía\"] # cambia los valores de los elementos en las posiciones 0 y 1\n",
    "print(frutas)"
   ]
  },
  {
   "cell_type": "code",
   "execution_count": 81,
   "id": "42b52a8a",
   "metadata": {},
   "outputs": [
    {
     "name": "stdout",
     "output_type": "stream",
     "text": [
      "6\n",
      "3\n"
     ]
    }
   ],
   "source": [
    "print(len(frutas)) # Imprimir la longitud de la lista\n",
    "print(frutas.count(\"sandía\")) # Imprimir cuántas veces aparece \"sandía\" en la lista"
   ]
  },
  {
   "cell_type": "code",
   "execution_count": 105,
   "id": "8c8b0813",
   "metadata": {},
   "outputs": [
    {
     "name": "stdout",
     "output_type": "stream",
     "text": [
      "[1, 2, 3, 4, 5, 6, 7, 8, 9, 10]\n",
      "[[1, 2, 3, 4, 5], [6, 7, 8, 9, 10]]\n",
      "[1, 2, 3, 4, 5]\n",
      "[6, 7, 8, 9, 10]\n",
      "1\n",
      "6\n",
      "[1, 2, 3]\n",
      "[6, 7, 8]\n",
      "1\n",
      "5\n"
     ]
    }
   ],
   "source": [
    "lista1 = [1, 2, 3, 4, 5]\n",
    "lista2 = [6, 7, 8, 9, 10]\n",
    "x, y = lista1[0], lista1[4] # Asignar dos listas a dos variables\n",
    "print(lista1 + lista2) # Concatenar dos listas\n",
    "numneros = [lista1, lista2] # Crear una lista de listas\n",
    "print(numneros)\n",
    "print(numneros[0]) # Imprimir la primera lista\n",
    "print(numneros[1]) # Imprimir la segunda lista\n",
    "print(numneros[0][0]) # Imprimir el primer elemento de la primera lista\n",
    "print(numneros[1][0]) # Imprimir el primer elemento de la segunda lista\n",
    "print(numneros[0][0:3]) # Imprimir los tres primeros elementos de la primera lista\n",
    "print(numneros[1][0:3]) # Imprimir los tres primeros elementos de la segunda lista\n",
    "print(x) # Imprimir la primera lista\n",
    "print(y) # Imprimir la segunda lista"
   ]
  },
  {
   "cell_type": "markdown",
   "id": "8a3203b2",
   "metadata": {},
   "source": [
    "# ************* Tuplas **************"
   ]
  },
  {
   "cell_type": "code",
   "execution_count": 97,
   "id": "e0a43f8a",
   "metadata": {},
   "outputs": [
    {
     "data": {
      "text/plain": [
       "('juan', 'perez', 'ana', 'maria', 'pedro')"
      ]
     },
     "execution_count": 97,
     "metadata": {},
     "output_type": "execute_result"
    }
   ],
   "source": [
    "# las tuplas son inmutables, no se pueden modificar\n",
    "nombres = (\"juan\", \"perez\", \"ana\", \"maria\", \"pedro\") # Crear una tupla\n",
    "nombres\n"
   ]
  },
  {
   "cell_type": "code",
   "execution_count": 98,
   "id": "07ccb80f",
   "metadata": {},
   "outputs": [
    {
     "data": {
      "text/plain": [
       "['juan', 'perez', 'ana', 'maria', 'pedro']"
      ]
     },
     "execution_count": 98,
     "metadata": {},
     "output_type": "execute_result"
    }
   ],
   "source": [
    "nombres2 = list(nombres) # Convertir la tupla en una lista\n",
    "nombres2"
   ]
  },
  {
   "cell_type": "code",
   "execution_count": 101,
   "id": "1db06774",
   "metadata": {},
   "outputs": [
    {
     "name": "stdout",
     "output_type": "stream",
     "text": [
      "(('kevin', 'karla', 'jose'), ('luigui', 'mario'))\n",
      "('kevin', 'karla', 'jose')\n",
      "('luigui', 'mario')\n"
     ]
    }
   ],
   "source": [
    "name = (\"kevin\", \"karla\", \"jose\") \n",
    "new_tupla = (name, (\"luigui\", \"mario\")) # Crear una tupla de tuplas\n",
    "x, y = new_tupla # Desempaquetar la tupla\n",
    "print(new_tupla)\n",
    "print(x) # Imprimir la primera tupla\n",
    "print(y) # Imprimir la segunda tupla\n"
   ]
  },
  {
   "cell_type": "markdown",
   "id": "5f75cbae",
   "metadata": {},
   "source": [
    "# ************* Diccionario **************"
   ]
  },
  {
   "cell_type": "code",
   "execution_count": 114,
   "id": "b367ca6e",
   "metadata": {},
   "outputs": [
    {
     "name": "stdout",
     "output_type": "stream",
     "text": [
      "{'nombre': 'kevin', 'edad': 20, 'ciudad': 'guayaquil', 'colores': ['rojo', 'azul', 'verde']}\n",
      "kevin\n"
     ]
    }
   ],
   "source": [
    "usuario = {\"nombre\": \"kevin\", \n",
    "           \"edad\": 20, \n",
    "           \"ciudad\": \"guayaquil\",\n",
    "           \"colores\":[\"rojo\", \"azul\", \"verde\"]} # Crear un diccionario\n",
    "\n",
    "print(usuario) # Imprimir el diccionario\n",
    "print(usuario[\"nombre\"]) # Imprimir el valor de la clave \"nombre\""
   ]
  },
  {
   "cell_type": "code",
   "execution_count": 116,
   "id": "7d12739f",
   "metadata": {},
   "outputs": [
    {
     "name": "stdout",
     "output_type": "stream",
     "text": [
      "dict_keys(['nombre', 'edad', 'ciudad', 'colores'])\n",
      "dict_values(['kevin', 20, 'guayaquil', ['rojo', 'azul', 'verde']])\n",
      "4\n"
     ]
    }
   ],
   "source": [
    "print(usuario.keys()) # Imprimir las claves del diccionario\n",
    "print(usuario.values()) # Imprimir los valores del diccionario\n",
    "print(len(usuario)) # Imprimir la longitud del diccionario"
   ]
  },
  {
   "cell_type": "markdown",
   "id": "565dd3de",
   "metadata": {},
   "source": [
    "# ************* None => null **************"
   ]
  },
  {
   "cell_type": "code",
   "execution_count": 120,
   "id": "1751c712",
   "metadata": {},
   "outputs": [
    {
     "name": "stdout",
     "output_type": "stream",
     "text": [
      "None\n",
      "True\n",
      "True\n"
     ]
    }
   ],
   "source": [
    "var = None\n",
    "text = \"Python\"\n",
    "print(var) # Imprimir el valor de la variable var\n",
    "print(var is None) # Imprimir si la variable var es None\n",
    "print(text is not None) # Imprimir si la variable text no es None"
   ]
  },
  {
   "cell_type": "markdown",
   "id": "9949deee",
   "metadata": {},
   "source": [
    "# ************* funciones **************"
   ]
  },
  {
   "cell_type": "code",
   "execution_count": 135,
   "id": "4bf9eec7",
   "metadata": {},
   "outputs": [
    {
     "name": "stdout",
     "output_type": "stream",
     "text": [
      "0 1 1 2 3 5 8 13 21 34 55 89 144 233 377 610 987 1597 \n",
      "0 1 1 2 3 5 8 13 21 34 55 89 144 233 377 610 987 1597 2584 4181 \n"
     ]
    }
   ],
   "source": [
    "def fibonacci(n):\n",
    "    \"\"\"Esta es una funcion que nos devuelve la serie de fibonacci\"\"\"\n",
    "    a, b = 0, 1 # Inicializar los valores de a y b\n",
    "    while a < n: # Mientras a sea menor que 100\n",
    "        print(a, end=\" \")\n",
    "        a, b = b, a + b\n",
    "    print() # Imprimir un salto de línea al final de la serie\n",
    "\n",
    "fibonacci(2000) # Llamar a la función fibonacci\n",
    "fibonacci(5000) # Llamar a la función fibonacci\n"
   ]
  },
  {
   "cell_type": "code",
   "execution_count": 141,
   "id": "c62be426",
   "metadata": {},
   "outputs": [
    {
     "name": "stdout",
     "output_type": "stream",
     "text": [
      "25\n",
      "-5\n",
      "150\n",
      "0.6666666666666666\n"
     ]
    }
   ],
   "source": [
    "def operaciones_matematicas(a, b):\n",
    "    \"\"\"Esta es una funcion que suma dos numeros\"\"\"\n",
    "    resultado_suma = a + b # Sumar los dos números\n",
    "    resultado_resta = a - b # Restar los dos números\n",
    "    resultado_multiplicacion = a * b # Multiplicar los dos números\n",
    "    resultado_division = a / b # Dividir los dos números\n",
    "    return resultado_suma, resultado_resta, resultado_multiplicacion, resultado_division \n",
    "\n",
    "suma, resta, multiplicacion, division = operaciones_matematicas(10, 15) # Llamar a la función operaciones_matematicas\n",
    "print(suma) # Imprimir el resultado de la suma\n",
    "print(resta) # Imprimir el resultado de la resta\n",
    "print(multiplicacion) # Imprimir el resultado de la multiplicación\n",
    "print(division) # Imprimir el resultado de la división"
   ]
  },
  {
   "cell_type": "code",
   "execution_count": 148,
   "id": "2cf9ab7f",
   "metadata": {},
   "outputs": [
    {
     "name": "stdout",
     "output_type": "stream",
     "text": [
      "kevin hola\n"
     ]
    }
   ],
   "source": [
    "name = \"kevin\" # Crear una variable con el nombre\n",
    "\n",
    "def func():\n",
    "    global name # Declarar la variable name como global\n",
    "    name = name +\" hola\"\n",
    "    print(name) # Imprimir el nombre\n",
    "\n",
    "func() # Llamar a la función func"
   ]
  },
  {
   "cell_type": "code",
   "execution_count": null,
   "id": "6268c71e",
   "metadata": {},
   "outputs": [
    {
     "name": "stdout",
     "output_type": "stream",
     "text": [
      "8\n"
     ]
    }
   ],
   "source": [
    "def func(n1, n2, n3=None):\n",
    "    if n3 is not None:\n",
    "        print(n1 + n2 + n3) # Imprimir la suma de los dos números\n",
    "    else:\n",
    "        print(n1 + n2)\n",
    "\n",
    "func(3, n2=5) # Llamar a la función funcc"
   ]
  },
  {
   "cell_type": "code",
   "execution_count": null,
   "id": "0c80b78c",
   "metadata": {},
   "outputs": [
    {
     "name": "stdout",
     "output_type": "stream",
     "text": [
      "1\n",
      "2\n",
      "3\n",
      "Paris hola mundo\n"
     ]
    }
   ],
   "source": [
    "def func(name, saludo=\"hola\", *arg):    #\"arg\" es un argumento variable\n",
    "    for item in arg:\n",
    "        print(item)\n",
    "    print(name + \" \" + saludo) # Imprimir el nombre y el saludo\n",
    "\n",
    "func(\"Paris\",\"hola mundo\", 1, 2, 3) # Llamar a la función funcc"
   ]
  },
  {
   "cell_type": "code",
   "execution_count": 164,
   "id": "14cb2187",
   "metadata": {},
   "outputs": [
    {
     "name": "stdout",
     "output_type": "stream",
     "text": [
      "{'dia1': 'martes', 'dia2': 'miercoles', 'dia3': 'jueves', 'dia4': 'viernes'}\n"
     ]
    }
   ],
   "source": [
    "dias = {\"dia1\":\"martes\",\n",
    "        \"dia2\":\"miercoles\",\n",
    "        \"dia3\":\"jueves\",\n",
    "        \"dia4\":\"viernes\"}\n",
    "\n",
    "def func(**kargs):\n",
    "    print(kargs) # Imprimir el diccionario\n",
    "\n",
    "func(**dias) # Llamar a la función func con el diccionario dias como argumento\n"
   ]
  },
  {
   "cell_type": "code",
   "execution_count": 166,
   "id": "5a1bd053",
   "metadata": {},
   "outputs": [
    {
     "name": "stdout",
     "output_type": "stream",
     "text": [
      "(1, 2, 3, 4, 5)\n",
      "{'dia1': 'martes', 'dia2': 'miercoles', 'dia3': 'jueves', 'dia4': 'viernes'}\n"
     ]
    }
   ],
   "source": [
    "def func(*arg, **kargs):\n",
    "    print(arg) # Imprimir la tupla\n",
    "    print(kargs) # Imprimir el diccionario\n",
    "\n",
    "func(1, 2, 3, 4, 5, **dias) # Llamar a la función func con una tupla y un diccionario como argumentos\n"
   ]
  },
  {
   "cell_type": "markdown",
   "id": "45daae3f",
   "metadata": {},
   "source": [
    "# ************* Proyecto: ToDo List **************"
   ]
  },
  {
   "cell_type": "markdown",
   "id": "36f21164",
   "metadata": {},
   "source": [
    "# "
   ]
  },
  {
   "cell_type": "code",
   "execution_count": null,
   "id": "7803428b",
   "metadata": {},
   "outputs": [
    {
     "name": "stdout",
     "output_type": "stream",
     "text": [
      "5:[{'name': 'charmeleon', 'url': 'https://pokeapi.co/api/v2/pokemon-form/5/'}]\n",
      "6:[{'name': 'charizard', 'url': 'https://pokeapi.co/api/v2/pokemon-form/6/'}]\n",
      "11:[{'name': 'metapod', 'url': 'https://pokeapi.co/api/v2/pokemon-form/11/'}]\n",
      "10:[{'name': 'caterpie', 'url': 'https://pokeapi.co/api/v2/pokemon-form/10/'}]\n",
      "23:[{'name': 'ekans', 'url': 'https://pokeapi.co/api/v2/pokemon-form/23/'}]\n",
      "15:[{'name': 'beedrill', 'url': 'https://pokeapi.co/api/v2/pokemon-form/15/'}]\n",
      "19:[{'name': 'rattata', 'url': 'https://pokeapi.co/api/v2/pokemon-form/19/'}]\n",
      "63:[{'name': 'abra', 'url': 'https://pokeapi.co/api/v2/pokemon-form/63/'}]\n",
      "43:[{'name': 'oddish', 'url': 'https://pokeapi.co/api/v2/pokemon-form/43/'}]\n",
      "47:[{'name': 'parasect', 'url': 'https://pokeapi.co/api/v2/pokemon-form/47/'}]\n",
      "38:[{'name': 'ninetales', 'url': 'https://pokeapi.co/api/v2/pokemon-form/38/'}]\n",
      "20:[{'name': 'raticate', 'url': 'https://pokeapi.co/api/v2/pokemon-form/20/'}]\n",
      "41:[{'name': 'zubat', 'url': 'https://pokeapi.co/api/v2/pokemon-form/41/'}]\n",
      "65:[{'name': 'alakazam', 'url': 'https://pokeapi.co/api/v2/pokemon-form/65/'}]\n",
      "21:[{'name': 'spearow', 'url': 'https://pokeapi.co/api/v2/pokemon-form/21/'}]\n",
      "82:[{'name': 'magneton', 'url': 'https://pokeapi.co/api/v2/pokemon-form/82/'}]\n",
      "53:[{'name': 'persian', 'url': 'https://pokeapi.co/api/v2/pokemon-form/53/'}]\n",
      "77:[{'name': 'ponyta', 'url': 'https://pokeapi.co/api/v2/pokemon-form/77/'}]\n",
      "18:[{'name': 'pidgeot', 'url': 'https://pokeapi.co/api/v2/pokemon-form/18/'}]\n",
      "95:[{'name': 'onix', 'url': 'https://pokeapi.co/api/v2/pokemon-form/95/'}]\n",
      "32:[{'name': 'nidoran-m', 'url': 'https://pokeapi.co/api/v2/pokemon-form/32/'}]\n",
      "101:[{'name': 'electrode', 'url': 'https://pokeapi.co/api/v2/pokemon-form/101/'}]\n",
      "85:[{'name': 'dodrio', 'url': 'https://pokeapi.co/api/v2/pokemon-form/85/'}]\n",
      "62:[{'name': 'poliwrath', 'url': 'https://pokeapi.co/api/v2/pokemon-form/62/'}]\n",
      "55:[{'name': 'golduck', 'url': 'https://pokeapi.co/api/v2/pokemon-form/55/'}]\n",
      "50:[{'name': 'diglett', 'url': 'https://pokeapi.co/api/v2/pokemon-form/50/'}]\n",
      "61:[{'name': 'poliwhirl', 'url': 'https://pokeapi.co/api/v2/pokemon-form/61/'}]\n",
      "64:[{'name': 'kadabra', 'url': 'https://pokeapi.co/api/v2/pokemon-form/64/'}]\n",
      "42:[{'name': 'golbat', 'url': 'https://pokeapi.co/api/v2/pokemon-form/42/'}]\n",
      "29:[{'name': 'nidoran-f', 'url': 'https://pokeapi.co/api/v2/pokemon-form/29/'}]\n",
      "56:[{'name': 'mankey', 'url': 'https://pokeapi.co/api/v2/pokemon-form/56/'}]\n",
      "22:[{'name': 'fearow', 'url': 'https://pokeapi.co/api/v2/pokemon-form/22/'}]\n",
      "28:[{'name': 'sandslash', 'url': 'https://pokeapi.co/api/v2/pokemon-form/28/'}]\n",
      "4:[{'name': 'charmander', 'url': 'https://pokeapi.co/api/v2/pokemon-form/4/'}]\n",
      "66:[{'name': 'machop', 'url': 'https://pokeapi.co/api/v2/pokemon-form/66/'}]\n",
      "58:[{'name': 'growlithe', 'url': 'https://pokeapi.co/api/v2/pokemon-form/58/'}]\n",
      "106:[{'name': 'hitmonlee', 'url': 'https://pokeapi.co/api/v2/pokemon-form/106/'}]\n",
      "67:[{'name': 'machoke', 'url': 'https://pokeapi.co/api/v2/pokemon-form/67/'}]\n",
      "1:[{'name': 'bulbasaur', 'url': 'https://pokeapi.co/api/v2/pokemon-form/1/'}]\n",
      "104:[{'name': 'cubone', 'url': 'https://pokeapi.co/api/v2/pokemon-form/104/'}]\n",
      "129:[{'name': 'magikarp', 'url': 'https://pokeapi.co/api/v2/pokemon-form/129/'}]\n",
      "103:[{'name': 'exeggutor', 'url': 'https://pokeapi.co/api/v2/pokemon-form/103/'}]\n",
      "40:[{'name': 'wigglytuff', 'url': 'https://pokeapi.co/api/v2/pokemon-form/40/'}]\n",
      "83:[{'name': 'farfetchd', 'url': 'https://pokeapi.co/api/v2/pokemon-form/83/'}]\n",
      "7:[{'name': 'squirtle', 'url': 'https://pokeapi.co/api/v2/pokemon-form/7/'}]\n",
      "9:[{'name': 'blastoise', 'url': 'https://pokeapi.co/api/v2/pokemon-form/9/'}]\n",
      "111:[{'name': 'rhyhorn', 'url': 'https://pokeapi.co/api/v2/pokemon-form/111/'}]\n",
      "98:[{'name': 'krabby', 'url': 'https://pokeapi.co/api/v2/pokemon-form/98/'}]\n",
      "39:[{'name': 'jigglypuff', 'url': 'https://pokeapi.co/api/v2/pokemon-form/39/'}]\n",
      "37:[{'name': 'vulpix', 'url': 'https://pokeapi.co/api/v2/pokemon-form/37/'}]\n",
      "76:[{'name': 'golem', 'url': 'https://pokeapi.co/api/v2/pokemon-form/76/'}]\n",
      "34:[{'name': 'nidoking', 'url': 'https://pokeapi.co/api/v2/pokemon-form/34/'}]\n",
      "78:[{'name': 'rapidash', 'url': 'https://pokeapi.co/api/v2/pokemon-form/78/'}]\n",
      "2:[{'name': 'ivysaur', 'url': 'https://pokeapi.co/api/v2/pokemon-form/2/'}]\n",
      "16:[{'name': 'pidgey', 'url': 'https://pokeapi.co/api/v2/pokemon-form/16/'}]\n",
      "3:[{'name': 'venusaur', 'url': 'https://pokeapi.co/api/v2/pokemon-form/3/'}]\n",
      "79:[{'name': 'slowpoke', 'url': 'https://pokeapi.co/api/v2/pokemon-form/79/'}]\n",
      "54:[{'name': 'psyduck', 'url': 'https://pokeapi.co/api/v2/pokemon-form/54/'}]\n",
      "71:[{'name': 'victreebel', 'url': 'https://pokeapi.co/api/v2/pokemon-form/71/'}]\n",
      "74:[{'name': 'geodude', 'url': 'https://pokeapi.co/api/v2/pokemon-form/74/'}]\n",
      "44:[{'name': 'gloom', 'url': 'https://pokeapi.co/api/v2/pokemon-form/44/'}]\n",
      "49:[{'name': 'venomoth', 'url': 'https://pokeapi.co/api/v2/pokemon-form/49/'}]\n",
      "91:[{'name': 'cloyster', 'url': 'https://pokeapi.co/api/v2/pokemon-form/91/'}]\n",
      "60:[{'name': 'poliwag', 'url': 'https://pokeapi.co/api/v2/pokemon-form/60/'}]\n",
      "57:[{'name': 'primeape', 'url': 'https://pokeapi.co/api/v2/pokemon-form/57/'}]\n",
      "51:[{'name': 'dugtrio', 'url': 'https://pokeapi.co/api/v2/pokemon-form/51/'}]\n",
      "119:[{'name': 'seaking', 'url': 'https://pokeapi.co/api/v2/pokemon-form/119/'}]\n",
      "108:[{'name': 'lickitung', 'url': 'https://pokeapi.co/api/v2/pokemon-form/108/'}]\n",
      "30:[{'name': 'nidorina', 'url': 'https://pokeapi.co/api/v2/pokemon-form/30/'}]\n",
      "48:[{'name': 'venonat', 'url': 'https://pokeapi.co/api/v2/pokemon-form/48/'}]\n",
      "94:[{'name': 'gengar', 'url': 'https://pokeapi.co/api/v2/pokemon-form/94/'}]\n",
      "93:[{'name': 'haunter', 'url': 'https://pokeapi.co/api/v2/pokemon-form/93/'}]\n",
      "46:[{'name': 'paras', 'url': 'https://pokeapi.co/api/v2/pokemon-form/46/'}]\n",
      "27:[{'name': 'sandshrew', 'url': 'https://pokeapi.co/api/v2/pokemon-form/27/'}]\n",
      "8:[{'name': 'wartortle', 'url': 'https://pokeapi.co/api/v2/pokemon-form/8/'}]\n",
      "25:[{'name': 'pikachu', 'url': 'https://pokeapi.co/api/v2/pokemon-form/25/'}]\n",
      "81:[{'name': 'magnemite', 'url': 'https://pokeapi.co/api/v2/pokemon-form/81/'}]12:[{'name': 'butterfree', 'url': 'https://pokeapi.co/api/v2/pokemon-form/12/'}]\n",
      "36:[{'name': 'clefable', 'url': 'https://pokeapi.co/api/v2/pokemon-form/36/'}]\n",
      "123:[{'name': 'scyther', 'url': 'https://pokeapi.co/api/v2/pokemon-form/123/'}]\n",
      "92:[{'name': 'gastly', 'url': 'https://pokeapi.co/api/v2/pokemon-form/92/'}]\n",
      "75:[{'name': 'graveler', 'url': 'https://pokeapi.co/api/v2/pokemon-form/75/'}]\n",
      "73:[{'name': 'tentacruel', 'url': 'https://pokeapi.co/api/v2/pokemon-form/73/'}]\n",
      "132:[{'name': 'ditto', 'url': 'https://pokeapi.co/api/v2/pokemon-form/132/'}]\n",
      "88:[{'name': 'grimer', 'url': 'https://pokeapi.co/api/v2/pokemon-form/88/'}]\n",
      "33:[{'name': 'nidorino', 'url': 'https://pokeapi.co/api/v2/pokemon-form/33/'}]\n",
      "59:[{'name': 'arcanine', 'url': 'https://pokeapi.co/api/v2/pokemon-form/59/'}]\n",
      "84:[{'name': 'doduo', 'url': 'https://pokeapi.co/api/v2/pokemon-form/84/'}]\n",
      "118:[{'name': 'goldeen', 'url': 'https://pokeapi.co/api/v2/pokemon-form/118/'}]\n",
      "117:[{'name': 'seadra', 'url': 'https://pokeapi.co/api/v2/pokemon-form/117/'}]\n",
      "86:[{'name': 'seel', 'url': 'https://pokeapi.co/api/v2/pokemon-form/86/'}]\n",
      "68:[{'name': 'machamp', 'url': 'https://pokeapi.co/api/v2/pokemon-form/68/'}]\n",
      "45:[{'name': 'vileplume', 'url': 'https://pokeapi.co/api/v2/pokemon-form/45/'}]\n",
      "141:[{'name': 'kabutops', 'url': 'https://pokeapi.co/api/v2/pokemon-form/141/'}]\n",
      "124:[{'name': 'jynx', 'url': 'https://pokeapi.co/api/v2/pokemon-form/124/'}]\n",
      "89:[{'name': 'muk', 'url': 'https://pokeapi.co/api/v2/pokemon-form/89/'}]\n",
      "24:[{'name': 'arbok', 'url': 'https://pokeapi.co/api/v2/pokemon-form/24/'}]\n",
      "35:[{'name': 'clefairy', 'url': 'https://pokeapi.co/api/v2/pokemon-form/35/'}]\n",
      "114:[{'name': 'tangela', 'url': 'https://pokeapi.co/api/v2/pokemon-form/114/'}]\n",
      "109:[{'name': 'koffing', 'url': 'https://pokeapi.co/api/v2/pokemon-form/109/'}]\n",
      "140:[{'name': 'kabuto', 'url': 'https://pokeapi.co/api/v2/pokemon-form/140/'}]\n",
      "120:[{'name': 'staryu', 'url': 'https://pokeapi.co/api/v2/pokemon-form/120/'}]\n",
      "52:[{'name': 'meowth', 'url': 'https://pokeapi.co/api/v2/pokemon-form/52/'}]\n",
      "70:[{'name': 'weepinbell', 'url': 'https://pokeapi.co/api/v2/pokemon-form/70/'}]\n",
      "80:[{'name': 'slowbro', 'url': 'https://pokeapi.co/api/v2/pokemon-form/80/'}]\n",
      "127:[{'name': 'pinsir', 'url': 'https://pokeapi.co/api/v2/pokemon-form/127/'}]\n",
      "99:[{'name': 'kingler', 'url': 'https://pokeapi.co/api/v2/pokemon-form/99/'}]\n",
      "69:[{'name': 'bellsprout', 'url': 'https://pokeapi.co/api/v2/pokemon-form/69/'}]\n",
      "72:[{'name': 'tentacool', 'url': 'https://pokeapi.co/api/v2/pokemon-form/72/'}]\n",
      "\n",
      "96:[{'name': 'drowzee', 'url': 'https://pokeapi.co/api/v2/pokemon-form/96/'}]\n",
      "105:[{'name': 'marowak', 'url': 'https://pokeapi.co/api/v2/pokemon-form/105/'}]\n",
      "14:[{'name': 'kakuna', 'url': 'https://pokeapi.co/api/v2/pokemon-form/14/'}]\n",
      "133:[{'name': 'eevee', 'url': 'https://pokeapi.co/api/v2/pokemon-form/133/'}]\n",
      "13:[{'name': 'weedle', 'url': 'https://pokeapi.co/api/v2/pokemon-form/13/'}]\n",
      "139:[{'name': 'omastar', 'url': 'https://pokeapi.co/api/v2/pokemon-form/139/'}]\n",
      "138:[{'name': 'omanyte', 'url': 'https://pokeapi.co/api/v2/pokemon-form/138/'}]\n",
      "102:[{'name': 'exeggcute', 'url': 'https://pokeapi.co/api/v2/pokemon-form/102/'}]\n",
      "145:[{'name': 'zapdos', 'url': 'https://pokeapi.co/api/v2/pokemon-form/145/'}]\n",
      "134:[{'name': 'vaporeon', 'url': 'https://pokeapi.co/api/v2/pokemon-form/134/'}]\n",
      "144:[{'name': 'articuno', 'url': 'https://pokeapi.co/api/v2/pokemon-form/144/'}]\n",
      "135:[{'name': 'jolteon', 'url': 'https://pokeapi.co/api/v2/pokemon-form/135/'}]\n",
      "121:[{'name': 'starmie', 'url': 'https://pokeapi.co/api/v2/pokemon-form/121/'}]\n",
      "128:[{'name': 'tauros', 'url': 'https://pokeapi.co/api/v2/pokemon-form/128/'}]\n",
      "107:[{'name': 'hitmonchan', 'url': 'https://pokeapi.co/api/v2/pokemon-form/107/'}]\n",
      "110:[{'name': 'weezing', 'url': 'https://pokeapi.co/api/v2/pokemon-form/110/'}]\n",
      "131:[{'name': 'lapras', 'url': 'https://pokeapi.co/api/v2/pokemon-form/131/'}]\n",
      "90:[{'name': 'shellder', 'url': 'https://pokeapi.co/api/v2/pokemon-form/90/'}]\n",
      "147:[{'name': 'dratini', 'url': 'https://pokeapi.co/api/v2/pokemon-form/147/'}]\n",
      "17:[{'name': 'pidgeotto', 'url': 'https://pokeapi.co/api/v2/pokemon-form/17/'}]\n",
      "130:[{'name': 'gyarados', 'url': 'https://pokeapi.co/api/v2/pokemon-form/130/'}]\n",
      "100:[{'name': 'voltorb', 'url': 'https://pokeapi.co/api/v2/pokemon-form/100/'}]\n",
      "126:[{'name': 'magmar', 'url': 'https://pokeapi.co/api/v2/pokemon-form/126/'}]\n",
      "31:[{'name': 'nidoqueen', 'url': 'https://pokeapi.co/api/v2/pokemon-form/31/'}]\n",
      "146:[{'name': 'moltres', 'url': 'https://pokeapi.co/api/v2/pokemon-form/146/'}]\n",
      "112:[{'name': 'rhydon', 'url': 'https://pokeapi.co/api/v2/pokemon-form/112/'}]\n",
      "26:[{'name': 'raichu', 'url': 'https://pokeapi.co/api/v2/pokemon-form/26/'}]\n",
      "142:[{'name': 'aerodactyl', 'url': 'https://pokeapi.co/api/v2/pokemon-form/142/'}]\n",
      "137:[{'name': 'porygon', 'url': 'https://pokeapi.co/api/v2/pokemon-form/137/'}]\n",
      "136:[{'name': 'flareon', 'url': 'https://pokeapi.co/api/v2/pokemon-form/136/'}]\n",
      "116:[{'name': 'horsea', 'url': 'https://pokeapi.co/api/v2/pokemon-form/116/'}]\n",
      "97:[{'name': 'hypno', 'url': 'https://pokeapi.co/api/v2/pokemon-form/97/'}]\n",
      "125:[{'name': 'electabuzz', 'url': 'https://pokeapi.co/api/v2/pokemon-form/125/'}]\n",
      "148:[{'name': 'dragonair', 'url': 'https://pokeapi.co/api/v2/pokemon-form/148/'}]\n",
      "143:[{'name': 'snorlax', 'url': 'https://pokeapi.co/api/v2/pokemon-form/143/'}]\n",
      "122:[{'name': 'mr-mime', 'url': 'https://pokeapi.co/api/v2/pokemon-form/122/'}]\n",
      "113:[{'name': 'chansey', 'url': 'https://pokeapi.co/api/v2/pokemon-form/113/'}]\n",
      "149:[{'name': 'dragonite', 'url': 'https://pokeapi.co/api/v2/pokemon-form/149/'}]\n",
      "115:[{'name': 'kangaskhan', 'url': 'https://pokeapi.co/api/v2/pokemon-form/115/'}]\n",
      "87:[{'name': 'dewgong', 'url': 'https://pokeapi.co/api/v2/pokemon-form/87/'}]\n"
     ]
    }
   ],
   "source": [
    "import requests \n",
    "import threading # Importar las librerías requests y threading\n",
    "\n",
    "def get_pokemon(pokemon_id):\n",
    "    response = requests.get(f\"https://pokeapi.co/api/v2/pokemon/{pokemon_id}\") # Hacer una petición a la API de Pokemon\n",
    "    if response.status_code == 200: # Si la respuesta es exitosa\n",
    "        name = response.json().get(\"forms\") # Obtener el resultado\n",
    "\n",
    "        print(f\"{pokemon_id}:{name}\")\n",
    "\n",
    "if __name__ == \"__main__\":\n",
    "    for i in range(1, 150):\n",
    "        thread = threading.Thread(target=get_pokemon, args=(i,)) # Crear un hilo para cada petición\n",
    "        thread.start()\n",
    "        #get_pokemon(i)\n",
    "        # Llamar a la función get_pokemon con los números del 1 al 10\n",
    "\n"
   ]
  }
 ],
 "metadata": {
  "kernelspec": {
   "display_name": "Python 3",
   "language": "python",
   "name": "python3"
  },
  "language_info": {
   "codemirror_mode": {
    "name": "ipython",
    "version": 3
   },
   "file_extension": ".py",
   "mimetype": "text/x-python",
   "name": "python",
   "nbconvert_exporter": "python",
   "pygments_lexer": "ipython3",
   "version": "3.11.9"
  }
 },
 "nbformat": 4,
 "nbformat_minor": 5
}
